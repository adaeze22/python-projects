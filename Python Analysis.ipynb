{
 "cells": [
  {
   "cell_type": "code",
   "execution_count": 20,
   "id": "4a76ce60",
   "metadata": {},
   "outputs": [],
   "source": [
    "import numpy as np\n",
    "import pandas as pd\n",
    "import matplotlib.pyplot as plt\n",
    "import seaborn as sb\n",
    "\n",
    "\n",
    "from pylab import rcParams\n",
    "%matplotlib inline\n",
    "\n",
    "rcParams['figure.figsize'] = 12,8\n",
    "import matplotlib.pyplot as plt"
   ]
  },
  {
   "cell_type": "code",
   "execution_count": 2,
   "id": "c14cb36b",
   "metadata": {},
   "outputs": [],
   "source": [
    "data = pd.read_csv('CleanCreditScoring.csv')"
   ]
  },
  {
   "cell_type": "code",
   "execution_count": 3,
   "id": "e779ee88",
   "metadata": {},
   "outputs": [
    {
     "data": {
      "text/html": [
       "<div>\n",
       "<style scoped>\n",
       "    .dataframe tbody tr th:only-of-type {\n",
       "        vertical-align: middle;\n",
       "    }\n",
       "\n",
       "    .dataframe tbody tr th {\n",
       "        vertical-align: top;\n",
       "    }\n",
       "\n",
       "    .dataframe thead th {\n",
       "        text-align: right;\n",
       "    }\n",
       "</style>\n",
       "<table border=\"1\" class=\"dataframe\">\n",
       "  <thead>\n",
       "    <tr style=\"text-align: right;\">\n",
       "      <th></th>\n",
       "      <th>Status</th>\n",
       "      <th>Seniority</th>\n",
       "      <th>Home</th>\n",
       "      <th>Time</th>\n",
       "      <th>Age</th>\n",
       "      <th>Marital</th>\n",
       "      <th>Records</th>\n",
       "      <th>Job</th>\n",
       "      <th>Expenses</th>\n",
       "      <th>Income</th>\n",
       "      <th>...</th>\n",
       "      <th>timeR</th>\n",
       "      <th>ageR</th>\n",
       "      <th>expensesR</th>\n",
       "      <th>incomeR</th>\n",
       "      <th>assetsR</th>\n",
       "      <th>debtR</th>\n",
       "      <th>amountR</th>\n",
       "      <th>priceR</th>\n",
       "      <th>finratR</th>\n",
       "      <th>savingsR</th>\n",
       "    </tr>\n",
       "  </thead>\n",
       "  <tbody>\n",
       "    <tr>\n",
       "      <th>0</th>\n",
       "      <td>good</td>\n",
       "      <td>9</td>\n",
       "      <td>rent</td>\n",
       "      <td>60</td>\n",
       "      <td>30</td>\n",
       "      <td>married</td>\n",
       "      <td>no_rec</td>\n",
       "      <td>freelance</td>\n",
       "      <td>73</td>\n",
       "      <td>129</td>\n",
       "      <td>...</td>\n",
       "      <td>time (48,99]</td>\n",
       "      <td>age (25,30]</td>\n",
       "      <td>exp (60,80]</td>\n",
       "      <td>inc (110,140]</td>\n",
       "      <td>asset (-1,0]</td>\n",
       "      <td>debt (-1,0]</td>\n",
       "      <td>am (600,900]</td>\n",
       "      <td>priz (0,1e+03]</td>\n",
       "      <td>finr (90,100]</td>\n",
       "      <td>sav (4,6]</td>\n",
       "    </tr>\n",
       "    <tr>\n",
       "      <th>1</th>\n",
       "      <td>good</td>\n",
       "      <td>17</td>\n",
       "      <td>rent</td>\n",
       "      <td>60</td>\n",
       "      <td>58</td>\n",
       "      <td>widow</td>\n",
       "      <td>no_rec</td>\n",
       "      <td>fixed</td>\n",
       "      <td>48</td>\n",
       "      <td>131</td>\n",
       "      <td>...</td>\n",
       "      <td>time (48,99]</td>\n",
       "      <td>age (50,99]</td>\n",
       "      <td>exp (40,50]</td>\n",
       "      <td>inc (110,140]</td>\n",
       "      <td>asset (-1,0]</td>\n",
       "      <td>debt (-1,0]</td>\n",
       "      <td>am (900,1.1e+03]</td>\n",
       "      <td>priz (1.5e+03,1.8e+03]</td>\n",
       "      <td>finr (50,70]</td>\n",
       "      <td>sav (4,6]</td>\n",
       "    </tr>\n",
       "    <tr>\n",
       "      <th>2</th>\n",
       "      <td>bad</td>\n",
       "      <td>10</td>\n",
       "      <td>owner</td>\n",
       "      <td>36</td>\n",
       "      <td>46</td>\n",
       "      <td>married</td>\n",
       "      <td>yes_rec</td>\n",
       "      <td>freelance</td>\n",
       "      <td>90</td>\n",
       "      <td>200</td>\n",
       "      <td>...</td>\n",
       "      <td>time (24,36]</td>\n",
       "      <td>age (40,50]</td>\n",
       "      <td>exp (80,1e+04]</td>\n",
       "      <td>inc (190,1e+04]</td>\n",
       "      <td>asset (0,3e+03]</td>\n",
       "      <td>debt (-1,0]</td>\n",
       "      <td>am (1.4e+03,1e+05]</td>\n",
       "      <td>priz (1.8e+03,1e+05]</td>\n",
       "      <td>finr (50,70]</td>\n",
       "      <td>sav (0,2]</td>\n",
       "    </tr>\n",
       "    <tr>\n",
       "      <th>3</th>\n",
       "      <td>good</td>\n",
       "      <td>0</td>\n",
       "      <td>rent</td>\n",
       "      <td>60</td>\n",
       "      <td>24</td>\n",
       "      <td>single</td>\n",
       "      <td>no_rec</td>\n",
       "      <td>fixed</td>\n",
       "      <td>63</td>\n",
       "      <td>182</td>\n",
       "      <td>...</td>\n",
       "      <td>time (48,99]</td>\n",
       "      <td>age (0,25]</td>\n",
       "      <td>exp (60,80]</td>\n",
       "      <td>inc (140,190]</td>\n",
       "      <td>asset (0,3e+03]</td>\n",
       "      <td>debt (-1,0]</td>\n",
       "      <td>am (600,900]</td>\n",
       "      <td>priz (1.3e+03,1.5e+03]</td>\n",
       "      <td>finr (50,70]</td>\n",
       "      <td>sav (6,99]</td>\n",
       "    </tr>\n",
       "    <tr>\n",
       "      <th>4</th>\n",
       "      <td>good</td>\n",
       "      <td>0</td>\n",
       "      <td>rent</td>\n",
       "      <td>36</td>\n",
       "      <td>26</td>\n",
       "      <td>single</td>\n",
       "      <td>no_rec</td>\n",
       "      <td>fixed</td>\n",
       "      <td>46</td>\n",
       "      <td>107</td>\n",
       "      <td>...</td>\n",
       "      <td>time (24,36]</td>\n",
       "      <td>age (25,30]</td>\n",
       "      <td>exp (40,50]</td>\n",
       "      <td>inc (80,110]</td>\n",
       "      <td>asset (-1,0]</td>\n",
       "      <td>debt (-1,0]</td>\n",
       "      <td>am (0,600]</td>\n",
       "      <td>priz (0,1e+03]</td>\n",
       "      <td>finr (0,50]</td>\n",
       "      <td>sav (6,99]</td>\n",
       "    </tr>\n",
       "  </tbody>\n",
       "</table>\n",
       "<p>5 rows × 27 columns</p>\n",
       "</div>"
      ],
      "text/plain": [
       "  Status  Seniority   Home  Time  Age  Marital  Records        Job  Expenses  \\\n",
       "0   good          9   rent    60   30  married   no_rec  freelance        73   \n",
       "1   good         17   rent    60   58    widow   no_rec      fixed        48   \n",
       "2    bad         10  owner    36   46  married  yes_rec  freelance        90   \n",
       "3   good          0   rent    60   24   single   no_rec      fixed        63   \n",
       "4   good          0   rent    36   26   single   no_rec      fixed        46   \n",
       "\n",
       "   Income  ...         timeR         ageR       expensesR          incomeR  \\\n",
       "0     129  ...  time (48,99]  age (25,30]     exp (60,80]    inc (110,140]   \n",
       "1     131  ...  time (48,99]  age (50,99]     exp (40,50]    inc (110,140]   \n",
       "2     200  ...  time (24,36]  age (40,50]  exp (80,1e+04]  inc (190,1e+04]   \n",
       "3     182  ...  time (48,99]   age (0,25]     exp (60,80]    inc (140,190]   \n",
       "4     107  ...  time (24,36]  age (25,30]     exp (40,50]     inc (80,110]   \n",
       "\n",
       "           assetsR        debtR             amountR                  priceR  \\\n",
       "0     asset (-1,0]  debt (-1,0]        am (600,900]          priz (0,1e+03]   \n",
       "1     asset (-1,0]  debt (-1,0]    am (900,1.1e+03]  priz (1.5e+03,1.8e+03]   \n",
       "2  asset (0,3e+03]  debt (-1,0]  am (1.4e+03,1e+05]    priz (1.8e+03,1e+05]   \n",
       "3  asset (0,3e+03]  debt (-1,0]        am (600,900]  priz (1.3e+03,1.5e+03]   \n",
       "4     asset (-1,0]  debt (-1,0]          am (0,600]          priz (0,1e+03]   \n",
       "\n",
       "         finratR    savingsR  \n",
       "0  finr (90,100]   sav (4,6]  \n",
       "1   finr (50,70]   sav (4,6]  \n",
       "2   finr (50,70]   sav (0,2]  \n",
       "3   finr (50,70]  sav (6,99]  \n",
       "4    finr (0,50]  sav (6,99]  \n",
       "\n",
       "[5 rows x 27 columns]"
      ]
     },
     "execution_count": 3,
     "metadata": {},
     "output_type": "execute_result"
    }
   ],
   "source": [
    "data.head()"
   ]
  },
  {
   "cell_type": "code",
   "execution_count": 5,
   "id": "d0a82147",
   "metadata": {},
   "outputs": [
    {
     "name": "stdout",
     "output_type": "stream",
     "text": [
      "<class 'pandas.core.frame.DataFrame'>\n",
      "RangeIndex: 4446 entries, 0 to 4445\n",
      "Data columns (total 27 columns):\n",
      " #   Column      Non-Null Count  Dtype  \n",
      "---  ------      --------------  -----  \n",
      " 0   Status      4446 non-null   object \n",
      " 1   Seniority   4446 non-null   int64  \n",
      " 2   Home        4446 non-null   object \n",
      " 3   Time        4446 non-null   int64  \n",
      " 4   Age         4446 non-null   int64  \n",
      " 5   Marital     4446 non-null   object \n",
      " 6   Records     4446 non-null   object \n",
      " 7   Job         4446 non-null   object \n",
      " 8   Expenses    4446 non-null   int64  \n",
      " 9   Income      4446 non-null   int64  \n",
      " 10  Assets      4446 non-null   int64  \n",
      " 11  Debt        4446 non-null   int64  \n",
      " 12  Amount      4446 non-null   int64  \n",
      " 13  Price       4446 non-null   int64  \n",
      " 14  Finrat      4446 non-null   float64\n",
      " 15  Savings     4446 non-null   float64\n",
      " 16  seniorityR  4446 non-null   object \n",
      " 17  timeR       4446 non-null   object \n",
      " 18  ageR        4446 non-null   object \n",
      " 19  expensesR   4446 non-null   object \n",
      " 20  incomeR     4446 non-null   object \n",
      " 21  assetsR     4446 non-null   object \n",
      " 22  debtR       4446 non-null   object \n",
      " 23  amountR     4446 non-null   object \n",
      " 24  priceR      4446 non-null   object \n",
      " 25  finratR     4446 non-null   object \n",
      " 26  savingsR    4446 non-null   object \n",
      "dtypes: float64(2), int64(9), object(16)\n",
      "memory usage: 938.0+ KB\n"
     ]
    }
   ],
   "source": [
    "data.info()"
   ]
  },
  {
   "cell_type": "code",
   "execution_count": 4,
   "id": "77df083e",
   "metadata": {},
   "outputs": [
    {
     "data": {
      "text/html": [
       "<div>\n",
       "<style scoped>\n",
       "    .dataframe tbody tr th:only-of-type {\n",
       "        vertical-align: middle;\n",
       "    }\n",
       "\n",
       "    .dataframe tbody tr th {\n",
       "        vertical-align: top;\n",
       "    }\n",
       "\n",
       "    .dataframe thead th {\n",
       "        text-align: right;\n",
       "    }\n",
       "</style>\n",
       "<table border=\"1\" class=\"dataframe\">\n",
       "  <thead>\n",
       "    <tr style=\"text-align: right;\">\n",
       "      <th></th>\n",
       "      <th>Seniority</th>\n",
       "      <th>Time</th>\n",
       "      <th>Age</th>\n",
       "      <th>Expenses</th>\n",
       "      <th>Income</th>\n",
       "      <th>Assets</th>\n",
       "      <th>Debt</th>\n",
       "      <th>Amount</th>\n",
       "      <th>Price</th>\n",
       "      <th>Finrat</th>\n",
       "      <th>Savings</th>\n",
       "    </tr>\n",
       "  </thead>\n",
       "  <tbody>\n",
       "    <tr>\n",
       "      <th>count</th>\n",
       "      <td>4446.000000</td>\n",
       "      <td>4446.000000</td>\n",
       "      <td>4446.000000</td>\n",
       "      <td>4446.000000</td>\n",
       "      <td>4446.000000</td>\n",
       "      <td>4446.000000</td>\n",
       "      <td>4446.000000</td>\n",
       "      <td>4446.000000</td>\n",
       "      <td>4446.000000</td>\n",
       "      <td>4446.000000</td>\n",
       "      <td>4446.000000</td>\n",
       "    </tr>\n",
       "    <tr>\n",
       "      <th>mean</th>\n",
       "      <td>7.991453</td>\n",
       "      <td>46.453441</td>\n",
       "      <td>37.084121</td>\n",
       "      <td>55.601439</td>\n",
       "      <td>140.629780</td>\n",
       "      <td>5354.948943</td>\n",
       "      <td>342.257085</td>\n",
       "      <td>1038.763383</td>\n",
       "      <td>1462.480432</td>\n",
       "      <td>72.616409</td>\n",
       "      <td>3.860083</td>\n",
       "    </tr>\n",
       "    <tr>\n",
       "      <th>std</th>\n",
       "      <td>8.176370</td>\n",
       "      <td>14.647979</td>\n",
       "      <td>10.986366</td>\n",
       "      <td>19.520839</td>\n",
       "      <td>80.177896</td>\n",
       "      <td>11534.328183</td>\n",
       "      <td>1244.694549</td>\n",
       "      <td>474.747952</td>\n",
       "      <td>628.555171</td>\n",
       "      <td>20.390595</td>\n",
       "      <td>3.726292</td>\n",
       "    </tr>\n",
       "    <tr>\n",
       "      <th>min</th>\n",
       "      <td>0.000000</td>\n",
       "      <td>6.000000</td>\n",
       "      <td>18.000000</td>\n",
       "      <td>35.000000</td>\n",
       "      <td>1.000000</td>\n",
       "      <td>0.000000</td>\n",
       "      <td>0.000000</td>\n",
       "      <td>100.000000</td>\n",
       "      <td>105.000000</td>\n",
       "      <td>6.702413</td>\n",
       "      <td>-8.160000</td>\n",
       "    </tr>\n",
       "    <tr>\n",
       "      <th>25%</th>\n",
       "      <td>2.000000</td>\n",
       "      <td>36.000000</td>\n",
       "      <td>28.000000</td>\n",
       "      <td>35.000000</td>\n",
       "      <td>90.000000</td>\n",
       "      <td>0.000000</td>\n",
       "      <td>0.000000</td>\n",
       "      <td>700.000000</td>\n",
       "      <td>1116.250000</td>\n",
       "      <td>60.030020</td>\n",
       "      <td>1.615385</td>\n",
       "    </tr>\n",
       "    <tr>\n",
       "      <th>50%</th>\n",
       "      <td>5.000000</td>\n",
       "      <td>48.000000</td>\n",
       "      <td>36.000000</td>\n",
       "      <td>51.000000</td>\n",
       "      <td>124.000000</td>\n",
       "      <td>3000.000000</td>\n",
       "      <td>0.000000</td>\n",
       "      <td>1000.000000</td>\n",
       "      <td>1400.000000</td>\n",
       "      <td>77.096757</td>\n",
       "      <td>3.120000</td>\n",
       "    </tr>\n",
       "    <tr>\n",
       "      <th>75%</th>\n",
       "      <td>12.000000</td>\n",
       "      <td>60.000000</td>\n",
       "      <td>45.000000</td>\n",
       "      <td>72.000000</td>\n",
       "      <td>170.000000</td>\n",
       "      <td>6000.000000</td>\n",
       "      <td>0.000000</td>\n",
       "      <td>1300.000000</td>\n",
       "      <td>1691.500000</td>\n",
       "      <td>88.460263</td>\n",
       "      <td>5.195688</td>\n",
       "    </tr>\n",
       "    <tr>\n",
       "      <th>max</th>\n",
       "      <td>48.000000</td>\n",
       "      <td>72.000000</td>\n",
       "      <td>68.000000</td>\n",
       "      <td>180.000000</td>\n",
       "      <td>959.000000</td>\n",
       "      <td>300000.000000</td>\n",
       "      <td>30000.000000</td>\n",
       "      <td>5000.000000</td>\n",
       "      <td>11140.000000</td>\n",
       "      <td>100.000000</td>\n",
       "      <td>33.250000</td>\n",
       "    </tr>\n",
       "  </tbody>\n",
       "</table>\n",
       "</div>"
      ],
      "text/plain": [
       "         Seniority         Time          Age     Expenses       Income  \\\n",
       "count  4446.000000  4446.000000  4446.000000  4446.000000  4446.000000   \n",
       "mean      7.991453    46.453441    37.084121    55.601439   140.629780   \n",
       "std       8.176370    14.647979    10.986366    19.520839    80.177896   \n",
       "min       0.000000     6.000000    18.000000    35.000000     1.000000   \n",
       "25%       2.000000    36.000000    28.000000    35.000000    90.000000   \n",
       "50%       5.000000    48.000000    36.000000    51.000000   124.000000   \n",
       "75%      12.000000    60.000000    45.000000    72.000000   170.000000   \n",
       "max      48.000000    72.000000    68.000000   180.000000   959.000000   \n",
       "\n",
       "              Assets          Debt       Amount         Price       Finrat  \\\n",
       "count    4446.000000   4446.000000  4446.000000   4446.000000  4446.000000   \n",
       "mean     5354.948943    342.257085  1038.763383   1462.480432    72.616409   \n",
       "std     11534.328183   1244.694549   474.747952    628.555171    20.390595   \n",
       "min         0.000000      0.000000   100.000000    105.000000     6.702413   \n",
       "25%         0.000000      0.000000   700.000000   1116.250000    60.030020   \n",
       "50%      3000.000000      0.000000  1000.000000   1400.000000    77.096757   \n",
       "75%      6000.000000      0.000000  1300.000000   1691.500000    88.460263   \n",
       "max    300000.000000  30000.000000  5000.000000  11140.000000   100.000000   \n",
       "\n",
       "           Savings  \n",
       "count  4446.000000  \n",
       "mean      3.860083  \n",
       "std       3.726292  \n",
       "min      -8.160000  \n",
       "25%       1.615385  \n",
       "50%       3.120000  \n",
       "75%       5.195688  \n",
       "max      33.250000  "
      ]
     },
     "execution_count": 4,
     "metadata": {},
     "output_type": "execute_result"
    }
   ],
   "source": [
    "data.describe()"
   ]
  },
  {
   "cell_type": "code",
   "execution_count": 5,
   "id": "95d1dedd",
   "metadata": {},
   "outputs": [
    {
     "data": {
      "text/plain": [
       "Status        0\n",
       "Seniority     0\n",
       "Home          0\n",
       "Time          0\n",
       "Age           0\n",
       "Marital       0\n",
       "Records       0\n",
       "Job           0\n",
       "Expenses      0\n",
       "Income        0\n",
       "Assets        0\n",
       "Debt          0\n",
       "Amount        0\n",
       "Price         0\n",
       "Finrat        0\n",
       "Savings       0\n",
       "seniorityR    0\n",
       "timeR         0\n",
       "ageR          0\n",
       "expensesR     0\n",
       "incomeR       0\n",
       "assetsR       0\n",
       "debtR         0\n",
       "amountR       0\n",
       "priceR        0\n",
       "finratR       0\n",
       "savingsR      0\n",
       "dtype: int64"
      ]
     },
     "execution_count": 5,
     "metadata": {},
     "output_type": "execute_result"
    }
   ],
   "source": [
    "data.isnull().sum()"
   ]
  },
  {
   "cell_type": "code",
   "execution_count": 6,
   "id": "55d8215a",
   "metadata": {},
   "outputs": [
    {
     "data": {
      "text/plain": [
       "2"
      ]
     },
     "execution_count": 6,
     "metadata": {},
     "output_type": "execute_result"
    }
   ],
   "source": [
    "data.duplicated().sum()"
   ]
  },
  {
   "cell_type": "code",
   "execution_count": 7,
   "id": "9ecc4a4e",
   "metadata": {
    "scrolled": true
   },
   "outputs": [
    {
     "data": {
      "text/html": [
       "<div>\n",
       "<style scoped>\n",
       "    .dataframe tbody tr th:only-of-type {\n",
       "        vertical-align: middle;\n",
       "    }\n",
       "\n",
       "    .dataframe tbody tr th {\n",
       "        vertical-align: top;\n",
       "    }\n",
       "\n",
       "    .dataframe thead th {\n",
       "        text-align: right;\n",
       "    }\n",
       "</style>\n",
       "<table border=\"1\" class=\"dataframe\">\n",
       "  <thead>\n",
       "    <tr style=\"text-align: right;\">\n",
       "      <th></th>\n",
       "      <th>Status</th>\n",
       "      <th>Seniority</th>\n",
       "      <th>Home</th>\n",
       "      <th>Time</th>\n",
       "      <th>Age</th>\n",
       "      <th>Marital</th>\n",
       "      <th>Records</th>\n",
       "      <th>Job</th>\n",
       "      <th>Expenses</th>\n",
       "      <th>Income</th>\n",
       "      <th>...</th>\n",
       "      <th>timeR</th>\n",
       "      <th>ageR</th>\n",
       "      <th>expensesR</th>\n",
       "      <th>incomeR</th>\n",
       "      <th>assetsR</th>\n",
       "      <th>debtR</th>\n",
       "      <th>amountR</th>\n",
       "      <th>priceR</th>\n",
       "      <th>finratR</th>\n",
       "      <th>savingsR</th>\n",
       "    </tr>\n",
       "  </thead>\n",
       "  <tbody>\n",
       "    <tr>\n",
       "      <th>0</th>\n",
       "      <td>good</td>\n",
       "      <td>9</td>\n",
       "      <td>rent</td>\n",
       "      <td>60</td>\n",
       "      <td>30</td>\n",
       "      <td>married</td>\n",
       "      <td>no_rec</td>\n",
       "      <td>freelance</td>\n",
       "      <td>73</td>\n",
       "      <td>129</td>\n",
       "      <td>...</td>\n",
       "      <td>time (48,99]</td>\n",
       "      <td>age (25,30]</td>\n",
       "      <td>exp (60,80]</td>\n",
       "      <td>inc (110,140]</td>\n",
       "      <td>asset (-1,0]</td>\n",
       "      <td>debt (-1,0]</td>\n",
       "      <td>am (600,900]</td>\n",
       "      <td>priz (0,1e+03]</td>\n",
       "      <td>finr (90,100]</td>\n",
       "      <td>sav (4,6]</td>\n",
       "    </tr>\n",
       "    <tr>\n",
       "      <th>1</th>\n",
       "      <td>good</td>\n",
       "      <td>17</td>\n",
       "      <td>rent</td>\n",
       "      <td>60</td>\n",
       "      <td>58</td>\n",
       "      <td>widow</td>\n",
       "      <td>no_rec</td>\n",
       "      <td>fixed</td>\n",
       "      <td>48</td>\n",
       "      <td>131</td>\n",
       "      <td>...</td>\n",
       "      <td>time (48,99]</td>\n",
       "      <td>age (50,99]</td>\n",
       "      <td>exp (40,50]</td>\n",
       "      <td>inc (110,140]</td>\n",
       "      <td>asset (-1,0]</td>\n",
       "      <td>debt (-1,0]</td>\n",
       "      <td>am (900,1.1e+03]</td>\n",
       "      <td>priz (1.5e+03,1.8e+03]</td>\n",
       "      <td>finr (50,70]</td>\n",
       "      <td>sav (4,6]</td>\n",
       "    </tr>\n",
       "    <tr>\n",
       "      <th>2</th>\n",
       "      <td>bad</td>\n",
       "      <td>10</td>\n",
       "      <td>owner</td>\n",
       "      <td>36</td>\n",
       "      <td>46</td>\n",
       "      <td>married</td>\n",
       "      <td>yes_rec</td>\n",
       "      <td>freelance</td>\n",
       "      <td>90</td>\n",
       "      <td>200</td>\n",
       "      <td>...</td>\n",
       "      <td>time (24,36]</td>\n",
       "      <td>age (40,50]</td>\n",
       "      <td>exp (80,1e+04]</td>\n",
       "      <td>inc (190,1e+04]</td>\n",
       "      <td>asset (0,3e+03]</td>\n",
       "      <td>debt (-1,0]</td>\n",
       "      <td>am (1.4e+03,1e+05]</td>\n",
       "      <td>priz (1.8e+03,1e+05]</td>\n",
       "      <td>finr (50,70]</td>\n",
       "      <td>sav (0,2]</td>\n",
       "    </tr>\n",
       "    <tr>\n",
       "      <th>3</th>\n",
       "      <td>good</td>\n",
       "      <td>0</td>\n",
       "      <td>rent</td>\n",
       "      <td>60</td>\n",
       "      <td>24</td>\n",
       "      <td>single</td>\n",
       "      <td>no_rec</td>\n",
       "      <td>fixed</td>\n",
       "      <td>63</td>\n",
       "      <td>182</td>\n",
       "      <td>...</td>\n",
       "      <td>time (48,99]</td>\n",
       "      <td>age (0,25]</td>\n",
       "      <td>exp (60,80]</td>\n",
       "      <td>inc (140,190]</td>\n",
       "      <td>asset (0,3e+03]</td>\n",
       "      <td>debt (-1,0]</td>\n",
       "      <td>am (600,900]</td>\n",
       "      <td>priz (1.3e+03,1.5e+03]</td>\n",
       "      <td>finr (50,70]</td>\n",
       "      <td>sav (6,99]</td>\n",
       "    </tr>\n",
       "    <tr>\n",
       "      <th>4</th>\n",
       "      <td>good</td>\n",
       "      <td>0</td>\n",
       "      <td>rent</td>\n",
       "      <td>36</td>\n",
       "      <td>26</td>\n",
       "      <td>single</td>\n",
       "      <td>no_rec</td>\n",
       "      <td>fixed</td>\n",
       "      <td>46</td>\n",
       "      <td>107</td>\n",
       "      <td>...</td>\n",
       "      <td>time (24,36]</td>\n",
       "      <td>age (25,30]</td>\n",
       "      <td>exp (40,50]</td>\n",
       "      <td>inc (80,110]</td>\n",
       "      <td>asset (-1,0]</td>\n",
       "      <td>debt (-1,0]</td>\n",
       "      <td>am (0,600]</td>\n",
       "      <td>priz (0,1e+03]</td>\n",
       "      <td>finr (0,50]</td>\n",
       "      <td>sav (6,99]</td>\n",
       "    </tr>\n",
       "    <tr>\n",
       "      <th>...</th>\n",
       "      <td>...</td>\n",
       "      <td>...</td>\n",
       "      <td>...</td>\n",
       "      <td>...</td>\n",
       "      <td>...</td>\n",
       "      <td>...</td>\n",
       "      <td>...</td>\n",
       "      <td>...</td>\n",
       "      <td>...</td>\n",
       "      <td>...</td>\n",
       "      <td>...</td>\n",
       "      <td>...</td>\n",
       "      <td>...</td>\n",
       "      <td>...</td>\n",
       "      <td>...</td>\n",
       "      <td>...</td>\n",
       "      <td>...</td>\n",
       "      <td>...</td>\n",
       "      <td>...</td>\n",
       "      <td>...</td>\n",
       "      <td>...</td>\n",
       "    </tr>\n",
       "    <tr>\n",
       "      <th>4441</th>\n",
       "      <td>bad</td>\n",
       "      <td>1</td>\n",
       "      <td>rent</td>\n",
       "      <td>60</td>\n",
       "      <td>39</td>\n",
       "      <td>married</td>\n",
       "      <td>no_rec</td>\n",
       "      <td>fixed</td>\n",
       "      <td>69</td>\n",
       "      <td>92</td>\n",
       "      <td>...</td>\n",
       "      <td>time (48,99]</td>\n",
       "      <td>age (30,40]</td>\n",
       "      <td>exp (60,80]</td>\n",
       "      <td>inc (80,110]</td>\n",
       "      <td>asset (-1,0]</td>\n",
       "      <td>debt (-1,0]</td>\n",
       "      <td>am (600,900]</td>\n",
       "      <td>priz (1e+03,1.3e+03]</td>\n",
       "      <td>finr (80,90]</td>\n",
       "      <td>sav (0,2]</td>\n",
       "    </tr>\n",
       "    <tr>\n",
       "      <th>4442</th>\n",
       "      <td>good</td>\n",
       "      <td>22</td>\n",
       "      <td>owner</td>\n",
       "      <td>60</td>\n",
       "      <td>46</td>\n",
       "      <td>married</td>\n",
       "      <td>no_rec</td>\n",
       "      <td>fixed</td>\n",
       "      <td>60</td>\n",
       "      <td>75</td>\n",
       "      <td>...</td>\n",
       "      <td>time (48,99]</td>\n",
       "      <td>age (40,50]</td>\n",
       "      <td>exp (50,60]</td>\n",
       "      <td>inc (0,80]</td>\n",
       "      <td>asset (0,3e+03]</td>\n",
       "      <td>debt (500,1.5e+03]</td>\n",
       "      <td>am (900,1.1e+03]</td>\n",
       "      <td>priz (1e+03,1.3e+03]</td>\n",
       "      <td>finr (70,80]</td>\n",
       "      <td>sav (0,2]</td>\n",
       "    </tr>\n",
       "    <tr>\n",
       "      <th>4443</th>\n",
       "      <td>bad</td>\n",
       "      <td>0</td>\n",
       "      <td>owner</td>\n",
       "      <td>24</td>\n",
       "      <td>37</td>\n",
       "      <td>married</td>\n",
       "      <td>no_rec</td>\n",
       "      <td>partime</td>\n",
       "      <td>60</td>\n",
       "      <td>90</td>\n",
       "      <td>...</td>\n",
       "      <td>time (12,24]</td>\n",
       "      <td>age (30,40]</td>\n",
       "      <td>exp (50,60]</td>\n",
       "      <td>inc (80,110]</td>\n",
       "      <td>asset (3e+03,5e+03]</td>\n",
       "      <td>debt (-1,0]</td>\n",
       "      <td>am (0,600]</td>\n",
       "      <td>priz (0,1e+03]</td>\n",
       "      <td>finr (50,70]</td>\n",
       "      <td>sav (0,2]</td>\n",
       "    </tr>\n",
       "    <tr>\n",
       "      <th>4444</th>\n",
       "      <td>good</td>\n",
       "      <td>0</td>\n",
       "      <td>rent</td>\n",
       "      <td>48</td>\n",
       "      <td>23</td>\n",
       "      <td>single</td>\n",
       "      <td>no_rec</td>\n",
       "      <td>freelance</td>\n",
       "      <td>49</td>\n",
       "      <td>140</td>\n",
       "      <td>...</td>\n",
       "      <td>time (36,48]</td>\n",
       "      <td>age (0,25]</td>\n",
       "      <td>exp (40,50]</td>\n",
       "      <td>inc (110,140]</td>\n",
       "      <td>asset (-1,0]</td>\n",
       "      <td>debt (-1,0]</td>\n",
       "      <td>am (0,600]</td>\n",
       "      <td>priz (0,1e+03]</td>\n",
       "      <td>finr (90,100]</td>\n",
       "      <td>sav (6,99]</td>\n",
       "    </tr>\n",
       "    <tr>\n",
       "      <th>4445</th>\n",
       "      <td>good</td>\n",
       "      <td>5</td>\n",
       "      <td>owner</td>\n",
       "      <td>60</td>\n",
       "      <td>32</td>\n",
       "      <td>married</td>\n",
       "      <td>no_rec</td>\n",
       "      <td>freelance</td>\n",
       "      <td>60</td>\n",
       "      <td>140</td>\n",
       "      <td>...</td>\n",
       "      <td>time (48,99]</td>\n",
       "      <td>age (30,40]</td>\n",
       "      <td>exp (50,60]</td>\n",
       "      <td>inc (110,140]</td>\n",
       "      <td>asset (3e+03,5e+03]</td>\n",
       "      <td>debt (500,1.5e+03]</td>\n",
       "      <td>am (1.1e+03,1.4e+03]</td>\n",
       "      <td>priz (1.5e+03,1.8e+03]</td>\n",
       "      <td>finr (80,90]</td>\n",
       "      <td>sav (2,4]</td>\n",
       "    </tr>\n",
       "  </tbody>\n",
       "</table>\n",
       "<p>4444 rows × 27 columns</p>\n",
       "</div>"
      ],
      "text/plain": [
       "     Status  Seniority   Home  Time  Age  Marital  Records        Job  \\\n",
       "0      good          9   rent    60   30  married   no_rec  freelance   \n",
       "1      good         17   rent    60   58    widow   no_rec      fixed   \n",
       "2       bad         10  owner    36   46  married  yes_rec  freelance   \n",
       "3      good          0   rent    60   24   single   no_rec      fixed   \n",
       "4      good          0   rent    36   26   single   no_rec      fixed   \n",
       "...     ...        ...    ...   ...  ...      ...      ...        ...   \n",
       "4441    bad          1   rent    60   39  married   no_rec      fixed   \n",
       "4442   good         22  owner    60   46  married   no_rec      fixed   \n",
       "4443    bad          0  owner    24   37  married   no_rec    partime   \n",
       "4444   good          0   rent    48   23   single   no_rec  freelance   \n",
       "4445   good          5  owner    60   32  married   no_rec  freelance   \n",
       "\n",
       "      Expenses  Income  ...         timeR         ageR       expensesR  \\\n",
       "0           73     129  ...  time (48,99]  age (25,30]     exp (60,80]   \n",
       "1           48     131  ...  time (48,99]  age (50,99]     exp (40,50]   \n",
       "2           90     200  ...  time (24,36]  age (40,50]  exp (80,1e+04]   \n",
       "3           63     182  ...  time (48,99]   age (0,25]     exp (60,80]   \n",
       "4           46     107  ...  time (24,36]  age (25,30]     exp (40,50]   \n",
       "...        ...     ...  ...           ...          ...             ...   \n",
       "4441        69      92  ...  time (48,99]  age (30,40]     exp (60,80]   \n",
       "4442        60      75  ...  time (48,99]  age (40,50]     exp (50,60]   \n",
       "4443        60      90  ...  time (12,24]  age (30,40]     exp (50,60]   \n",
       "4444        49     140  ...  time (36,48]   age (0,25]     exp (40,50]   \n",
       "4445        60     140  ...  time (48,99]  age (30,40]     exp (50,60]   \n",
       "\n",
       "              incomeR              assetsR               debtR  \\\n",
       "0       inc (110,140]         asset (-1,0]         debt (-1,0]   \n",
       "1       inc (110,140]         asset (-1,0]         debt (-1,0]   \n",
       "2     inc (190,1e+04]      asset (0,3e+03]         debt (-1,0]   \n",
       "3       inc (140,190]      asset (0,3e+03]         debt (-1,0]   \n",
       "4        inc (80,110]         asset (-1,0]         debt (-1,0]   \n",
       "...               ...                  ...                 ...   \n",
       "4441     inc (80,110]         asset (-1,0]         debt (-1,0]   \n",
       "4442       inc (0,80]      asset (0,3e+03]  debt (500,1.5e+03]   \n",
       "4443     inc (80,110]  asset (3e+03,5e+03]         debt (-1,0]   \n",
       "4444    inc (110,140]         asset (-1,0]         debt (-1,0]   \n",
       "4445    inc (110,140]  asset (3e+03,5e+03]  debt (500,1.5e+03]   \n",
       "\n",
       "                   amountR                  priceR        finratR    savingsR  \n",
       "0             am (600,900]          priz (0,1e+03]  finr (90,100]   sav (4,6]  \n",
       "1         am (900,1.1e+03]  priz (1.5e+03,1.8e+03]   finr (50,70]   sav (4,6]  \n",
       "2       am (1.4e+03,1e+05]    priz (1.8e+03,1e+05]   finr (50,70]   sav (0,2]  \n",
       "3             am (600,900]  priz (1.3e+03,1.5e+03]   finr (50,70]  sav (6,99]  \n",
       "4               am (0,600]          priz (0,1e+03]    finr (0,50]  sav (6,99]  \n",
       "...                    ...                     ...            ...         ...  \n",
       "4441          am (600,900]    priz (1e+03,1.3e+03]   finr (80,90]   sav (0,2]  \n",
       "4442      am (900,1.1e+03]    priz (1e+03,1.3e+03]   finr (70,80]   sav (0,2]  \n",
       "4443            am (0,600]          priz (0,1e+03]   finr (50,70]   sav (0,2]  \n",
       "4444            am (0,600]          priz (0,1e+03]  finr (90,100]  sav (6,99]  \n",
       "4445  am (1.1e+03,1.4e+03]  priz (1.5e+03,1.8e+03]   finr (80,90]   sav (2,4]  \n",
       "\n",
       "[4444 rows x 27 columns]"
      ]
     },
     "execution_count": 7,
     "metadata": {},
     "output_type": "execute_result"
    }
   ],
   "source": [
    "data.drop_duplicates()"
   ]
  },
  {
   "cell_type": "code",
   "execution_count": 32,
   "id": "08e69cd1",
   "metadata": {},
   "outputs": [],
   "source": [
    "data.drop(['timeR','ageR','expensesR','incomeR','assetsR','debtR','amountR','priceR','finratR', 'savingsR'], axis = 1, inplace = True)"
   ]
  },
  {
   "cell_type": "code",
   "execution_count": 33,
   "id": "111a0742",
   "metadata": {},
   "outputs": [
    {
     "name": "stdout",
     "output_type": "stream",
     "text": [
      "<class 'pandas.core.frame.DataFrame'>\n",
      "RangeIndex: 4446 entries, 0 to 4445\n",
      "Data columns (total 17 columns):\n",
      " #   Column      Non-Null Count  Dtype  \n",
      "---  ------      --------------  -----  \n",
      " 0   Status      4446 non-null   object \n",
      " 1   Seniority   4446 non-null   int64  \n",
      " 2   Home        4446 non-null   object \n",
      " 3   Time        4446 non-null   int64  \n",
      " 4   Age         4446 non-null   int64  \n",
      " 5   Marital     4446 non-null   object \n",
      " 6   Records     4446 non-null   object \n",
      " 7   Job         4446 non-null   object \n",
      " 8   Expenses    4446 non-null   int64  \n",
      " 9   Income      4446 non-null   int64  \n",
      " 10  Assets      4446 non-null   int64  \n",
      " 11  Debt        4446 non-null   int64  \n",
      " 12  Amount      4446 non-null   int64  \n",
      " 13  Price       4446 non-null   int64  \n",
      " 14  Finrat      4446 non-null   float64\n",
      " 15  Savings     4446 non-null   float64\n",
      " 16  seniorityR  4446 non-null   object \n",
      "dtypes: float64(2), int64(9), object(6)\n",
      "memory usage: 590.6+ KB\n"
     ]
    }
   ],
   "source": [
    "data.info()"
   ]
  },
  {
   "cell_type": "code",
   "execution_count": 35,
   "id": "a83bcc9d",
   "metadata": {},
   "outputs": [],
   "source": [
    "data.drop('seniorityR', axis = 1, inplace = True)"
   ]
  },
  {
   "cell_type": "code",
   "execution_count": 43,
   "id": "0c2dc7a8",
   "metadata": {},
   "outputs": [
    {
     "data": {
      "text/html": [
       "<div>\n",
       "<style scoped>\n",
       "    .dataframe tbody tr th:only-of-type {\n",
       "        vertical-align: middle;\n",
       "    }\n",
       "\n",
       "    .dataframe tbody tr th {\n",
       "        vertical-align: top;\n",
       "    }\n",
       "\n",
       "    .dataframe thead th {\n",
       "        text-align: right;\n",
       "    }\n",
       "</style>\n",
       "<table border=\"1\" class=\"dataframe\">\n",
       "  <thead>\n",
       "    <tr style=\"text-align: right;\">\n",
       "      <th></th>\n",
       "      <th>Status</th>\n",
       "      <th>Seniority</th>\n",
       "      <th>Home</th>\n",
       "      <th>Time</th>\n",
       "      <th>Age</th>\n",
       "      <th>Marital</th>\n",
       "      <th>Records</th>\n",
       "      <th>Job</th>\n",
       "      <th>Expenses</th>\n",
       "      <th>Income</th>\n",
       "      <th>Assets</th>\n",
       "      <th>Debt</th>\n",
       "      <th>Amount</th>\n",
       "      <th>Price</th>\n",
       "      <th>Finrat</th>\n",
       "      <th>Savings</th>\n",
       "    </tr>\n",
       "  </thead>\n",
       "  <tbody>\n",
       "    <tr>\n",
       "      <th>0</th>\n",
       "      <td>good</td>\n",
       "      <td>9</td>\n",
       "      <td>rent</td>\n",
       "      <td>60</td>\n",
       "      <td>30</td>\n",
       "      <td>married</td>\n",
       "      <td>no_rec</td>\n",
       "      <td>freelance</td>\n",
       "      <td>73</td>\n",
       "      <td>129</td>\n",
       "      <td>0</td>\n",
       "      <td>0</td>\n",
       "      <td>800</td>\n",
       "      <td>846</td>\n",
       "      <td>94.562648</td>\n",
       "      <td>4.200000</td>\n",
       "    </tr>\n",
       "    <tr>\n",
       "      <th>1</th>\n",
       "      <td>good</td>\n",
       "      <td>17</td>\n",
       "      <td>rent</td>\n",
       "      <td>60</td>\n",
       "      <td>58</td>\n",
       "      <td>widow</td>\n",
       "      <td>no_rec</td>\n",
       "      <td>fixed</td>\n",
       "      <td>48</td>\n",
       "      <td>131</td>\n",
       "      <td>0</td>\n",
       "      <td>0</td>\n",
       "      <td>1000</td>\n",
       "      <td>1658</td>\n",
       "      <td>60.313631</td>\n",
       "      <td>4.980000</td>\n",
       "    </tr>\n",
       "    <tr>\n",
       "      <th>2</th>\n",
       "      <td>bad</td>\n",
       "      <td>10</td>\n",
       "      <td>owner</td>\n",
       "      <td>36</td>\n",
       "      <td>46</td>\n",
       "      <td>married</td>\n",
       "      <td>yes_rec</td>\n",
       "      <td>freelance</td>\n",
       "      <td>90</td>\n",
       "      <td>200</td>\n",
       "      <td>3000</td>\n",
       "      <td>0</td>\n",
       "      <td>2000</td>\n",
       "      <td>2985</td>\n",
       "      <td>67.001675</td>\n",
       "      <td>1.980000</td>\n",
       "    </tr>\n",
       "    <tr>\n",
       "      <th>3</th>\n",
       "      <td>good</td>\n",
       "      <td>0</td>\n",
       "      <td>rent</td>\n",
       "      <td>60</td>\n",
       "      <td>24</td>\n",
       "      <td>single</td>\n",
       "      <td>no_rec</td>\n",
       "      <td>fixed</td>\n",
       "      <td>63</td>\n",
       "      <td>182</td>\n",
       "      <td>2500</td>\n",
       "      <td>0</td>\n",
       "      <td>900</td>\n",
       "      <td>1325</td>\n",
       "      <td>67.924528</td>\n",
       "      <td>7.933333</td>\n",
       "    </tr>\n",
       "    <tr>\n",
       "      <th>4</th>\n",
       "      <td>good</td>\n",
       "      <td>0</td>\n",
       "      <td>rent</td>\n",
       "      <td>36</td>\n",
       "      <td>26</td>\n",
       "      <td>single</td>\n",
       "      <td>no_rec</td>\n",
       "      <td>fixed</td>\n",
       "      <td>46</td>\n",
       "      <td>107</td>\n",
       "      <td>0</td>\n",
       "      <td>0</td>\n",
       "      <td>310</td>\n",
       "      <td>910</td>\n",
       "      <td>34.065934</td>\n",
       "      <td>7.083871</td>\n",
       "    </tr>\n",
       "  </tbody>\n",
       "</table>\n",
       "</div>"
      ],
      "text/plain": [
       "  Status  Seniority   Home  Time  Age  Marital  Records        Job  Expenses  \\\n",
       "0   good          9   rent    60   30  married   no_rec  freelance        73   \n",
       "1   good         17   rent    60   58    widow   no_rec      fixed        48   \n",
       "2    bad         10  owner    36   46  married  yes_rec  freelance        90   \n",
       "3   good          0   rent    60   24   single   no_rec      fixed        63   \n",
       "4   good          0   rent    36   26   single   no_rec      fixed        46   \n",
       "\n",
       "   Income  Assets  Debt  Amount  Price     Finrat   Savings  \n",
       "0     129       0     0     800    846  94.562648  4.200000  \n",
       "1     131       0     0    1000   1658  60.313631  4.980000  \n",
       "2     200    3000     0    2000   2985  67.001675  1.980000  \n",
       "3     182    2500     0     900   1325  67.924528  7.933333  \n",
       "4     107       0     0     310    910  34.065934  7.083871  "
      ]
     },
     "execution_count": 43,
     "metadata": {},
     "output_type": "execute_result"
    }
   ],
   "source": [
    "data.head()"
   ]
  },
  {
   "cell_type": "code",
   "execution_count": 48,
   "id": "873be148",
   "metadata": {},
   "outputs": [
    {
     "data": {
      "text/plain": [
       "fixed        2803\n",
       "freelance    1021\n",
       "partime       451\n",
       "others        171\n",
       "Name: Job, dtype: int64"
      ]
     },
     "execution_count": 48,
     "metadata": {},
     "output_type": "execute_result"
    }
   ],
   "source": [
    "data['Job'].value_counts()"
   ]
  },
  {
   "cell_type": "code",
   "execution_count": 49,
   "id": "c8eb28fe",
   "metadata": {},
   "outputs": [
    {
     "data": {
      "text/plain": [
       "owner      2106\n",
       "rent        973\n",
       "parents     782\n",
       "other       319\n",
       "priv        246\n",
       "ignore       20\n",
       "Name: Home, dtype: int64"
      ]
     },
     "execution_count": 49,
     "metadata": {},
     "output_type": "execute_result"
    }
   ],
   "source": [
    "data['Home'].value_counts()"
   ]
  },
  {
   "cell_type": "code",
   "execution_count": 50,
   "id": "5aff9842",
   "metadata": {},
   "outputs": [
    {
     "data": {
      "text/plain": [
       "married      3238\n",
       "single        973\n",
       "separated     130\n",
       "widow          67\n",
       "divorced       38\n",
       "Name: Marital, dtype: int64"
      ]
     },
     "execution_count": 50,
     "metadata": {},
     "output_type": "execute_result"
    }
   ],
   "source": [
    "data['Marital'].value_counts()"
   ]
  },
  {
   "cell_type": "code",
   "execution_count": 51,
   "id": "dfac7c10",
   "metadata": {},
   "outputs": [
    {
     "data": {
      "text/plain": [
       "no_rec     3677\n",
       "yes_rec     769\n",
       "Name: Records, dtype: int64"
      ]
     },
     "execution_count": 51,
     "metadata": {},
     "output_type": "execute_result"
    }
   ],
   "source": [
    "data['Records'].value_counts()"
   ]
  },
  {
   "cell_type": "code",
   "execution_count": 21,
   "id": "1a18d997",
   "metadata": {},
   "outputs": [
    {
     "data": {
      "text/plain": [
       "array([[<AxesSubplot:title={'center':'Income'}>]], dtype=object)"
      ]
     },
     "execution_count": 21,
     "metadata": {},
     "output_type": "execute_result"
    },
    {
     "data": {
      "image/png": "[encoded data removed]",
      "text/plain": [
       "<Figure size 864x576 with 1 Axes>"
      ]
     },
     "metadata": {
      "needs_background": "light"
     },
     "output_type": "display_data"
    }
   ],
   "source": [
    "data.hist(column = 'Income')"
   ]
  },
  {
   "cell_type": "code",
   "execution_count": 22,
   "id": "79237654",
   "metadata": {},
   "outputs": [
    {
     "data": {
      "text/plain": [
       "<AxesSubplot:xlabel='Income', ylabel='Density'>"
      ]
     },
     "execution_count": 22,
     "metadata": {},
     "output_type": "execute_result"
    },
    {
     "data": {
      "image/png": "[encoded data removed]",
      "text/plain": [
       "<Figure size 864x576 with 1 Axes>"
      ]
     },
     "metadata": {
      "needs_background": "light"
     },
     "output_type": "display_data"
    }
   ],
   "source": [
    "sb.kdeplot(data['Income'])"
   ]
  },
  {
   "cell_type": "code",
   "execution_count": 23,
   "id": "36645362",
   "metadata": {},
   "outputs": [
    {
     "data": {
      "text/plain": [
       "<AxesSubplot:>"
      ]
     },
     "execution_count": 23,
     "metadata": {},
     "output_type": "execute_result"
    },
    {
     "data": {
      "image/png": "[encoded data removed]",
      "text/plain": [
       "<Figure size 864x576 with 1 Axes>"
      ]
     },
     "metadata": {
      "needs_background": "light"
     },
     "output_type": "display_data"
    }
   ],
   "source": [
    "data.boxplot(column=['Income'])"
   ]
  },
  {
   "cell_type": "code",
   "execution_count": 24,
   "id": "569465fb",
   "metadata": {},
   "outputs": [
    {
     "data": {
      "text/plain": [
       "array([[<AxesSubplot:title={'center':'Expenses'}>]], dtype=object)"
      ]
     },
     "execution_count": 24,
     "metadata": {},
     "output_type": "execute_result"
    },
    {
     "data": {
      "image/png": "[encoded data removed]",
      "text/plain": [
       "<Figure size 864x576 with 1 Axes>"
      ]
     },
     "metadata": {
      "needs_background": "light"
     },
     "output_type": "display_data"
    }
   ],
   "source": [
    "data.hist(column = 'Expenses')"
   ]
  },
  {
   "cell_type": "code",
   "execution_count": 25,
   "id": "9ba291a7",
   "metadata": {},
   "outputs": [
    {
     "data": {
      "text/plain": [
       "<AxesSubplot:xlabel='Expenses', ylabel='Density'>"
      ]
     },
     "execution_count": 25,
     "metadata": {},
     "output_type": "execute_result"
    },
    {
     "data": {
      "image/png": "[encoded data removed]",
      "text/plain": [
       "<Figure size 864x576 with 1 Axes>"
      ]
     },
     "metadata": {
      "needs_background": "light"
     },
     "output_type": "display_data"
    }
   ],
   "source": [
    "sb.kdeplot(data['Expenses'])"
   ]
  },
  {
   "cell_type": "code",
   "execution_count": 26,
   "id": "f3550edc",
   "metadata": {},
   "outputs": [
    {
     "data": {
      "text/plain": [
       "<AxesSubplot:>"
      ]
     },
     "execution_count": 26,
     "metadata": {},
     "output_type": "execute_result"
    },
    {
     "data": {
      "image/png": "[encoded data removed]",
      "text/plain": [
       "<Figure size 864x576 with 1 Axes>"
      ]
     },
     "metadata": {
      "needs_background": "light"
     },
     "output_type": "display_data"
    }
   ],
   "source": [
    "data.boxplot(column=['Expenses'])"
   ]
  },
  {
   "cell_type": "code",
   "execution_count": 14,
   "id": "d64acdb1",
   "metadata": {},
   "outputs": [
    {
     "data": {
      "text/plain": [
       "good    3197\n",
       "bad     1249\n",
       "Name: Status, dtype: int64"
      ]
     },
     "execution_count": 14,
     "metadata": {},
     "output_type": "execute_result"
    }
   ],
   "source": [
    "data['Status'].value_counts()"
   ]
  },
  {
   "cell_type": "code",
   "execution_count": 15,
   "id": "084bf962",
   "metadata": {},
   "outputs": [
    {
     "data": {
      "text/plain": [
       "<AxesSubplot:xlabel='Status', ylabel='count'>"
      ]
     },
     "execution_count": 15,
     "metadata": {},
     "output_type": "execute_result"
    },
    {
     "data": {
      "image/png": "[encoded data removed]",
      "text/plain": [
       "<Figure size 432x288 with 1 Axes>"
      ]
     },
     "metadata": {
      "needs_background": "light"
     },
     "output_type": "display_data"
    }
   ],
   "source": [
    "sb.countplot(x='Status', data=data, palette = 'hls')"
   ]
  },
  {
   "cell_type": "markdown",
   "id": "0bac1798",
   "metadata": {},
   "source": [
    "Bivariate Analysis"
   ]
  },
  {
   "cell_type": "code",
   "execution_count": 16,
   "id": "d203cf57",
   "metadata": {},
   "outputs": [
    {
     "data": {
      "text/html": [
       "<div>\n",
       "<style scoped>\n",
       "    .dataframe tbody tr th:only-of-type {\n",
       "        vertical-align: middle;\n",
       "    }\n",
       "\n",
       "    .dataframe tbody tr th {\n",
       "        vertical-align: top;\n",
       "    }\n",
       "\n",
       "    .dataframe thead th {\n",
       "        text-align: right;\n",
       "    }\n",
       "</style>\n",
       "<table border=\"1\" class=\"dataframe\">\n",
       "  <thead>\n",
       "    <tr style=\"text-align: right;\">\n",
       "      <th></th>\n",
       "      <th>Seniority</th>\n",
       "      <th>Time</th>\n",
       "      <th>Age</th>\n",
       "      <th>Expenses</th>\n",
       "      <th>Income</th>\n",
       "      <th>Assets</th>\n",
       "      <th>Debt</th>\n",
       "      <th>Amount</th>\n",
       "      <th>Price</th>\n",
       "      <th>Finrat</th>\n",
       "      <th>Savings</th>\n",
       "    </tr>\n",
       "  </thead>\n",
       "  <tbody>\n",
       "    <tr>\n",
       "      <th>Seniority</th>\n",
       "      <td>1.000000</td>\n",
       "      <td>-0.021874</td>\n",
       "      <td>0.506089</td>\n",
       "      <td>0.125680</td>\n",
       "      <td>0.121224</td>\n",
       "      <td>0.124241</td>\n",
       "      <td>-0.019347</td>\n",
       "      <td>-0.007639</td>\n",
       "      <td>0.041122</td>\n",
       "      <td>-0.073392</td>\n",
       "      <td>0.093246</td>\n",
       "    </tr>\n",
       "    <tr>\n",
       "      <th>Time</th>\n",
       "      <td>-0.021874</td>\n",
       "      <td>1.000000</td>\n",
       "      <td>-0.051850</td>\n",
       "      <td>-0.001717</td>\n",
       "      <td>-0.029915</td>\n",
       "      <td>-0.083018</td>\n",
       "      <td>0.058267</td>\n",
       "      <td>0.430858</td>\n",
       "      <td>0.129677</td>\n",
       "      <td>0.468641</td>\n",
       "      <td>0.101653</td>\n",
       "    </tr>\n",
       "    <tr>\n",
       "      <th>Age</th>\n",
       "      <td>0.506089</td>\n",
       "      <td>-0.051850</td>\n",
       "      <td>1.000000</td>\n",
       "      <td>0.248137</td>\n",
       "      <td>0.147556</td>\n",
       "      <td>0.180986</td>\n",
       "      <td>-0.046188</td>\n",
       "      <td>0.029031</td>\n",
       "      <td>0.048685</td>\n",
       "      <td>-0.034514</td>\n",
       "      <td>0.062036</td>\n",
       "    </tr>\n",
       "    <tr>\n",
       "      <th>Expenses</th>\n",
       "      <td>0.125680</td>\n",
       "      <td>-0.001717</td>\n",
       "      <td>0.248137</td>\n",
       "      <td>1.000000</td>\n",
       "      <td>0.255005</td>\n",
       "      <td>0.018935</td>\n",
       "      <td>0.014771</td>\n",
       "      <td>0.049539</td>\n",
       "      <td>0.040728</td>\n",
       "      <td>0.024582</td>\n",
       "      <td>-0.038094</td>\n",
       "    </tr>\n",
       "    <tr>\n",
       "      <th>Income</th>\n",
       "      <td>0.121224</td>\n",
       "      <td>-0.029915</td>\n",
       "      <td>0.147556</td>\n",
       "      <td>0.255005</td>\n",
       "      <td>1.000000</td>\n",
       "      <td>0.219112</td>\n",
       "      <td>0.144697</td>\n",
       "      <td>0.190820</td>\n",
       "      <td>0.217789</td>\n",
       "      <td>-0.003407</td>\n",
       "      <td>0.717963</td>\n",
       "    </tr>\n",
       "    <tr>\n",
       "      <th>Assets</th>\n",
       "      <td>0.124241</td>\n",
       "      <td>-0.083018</td>\n",
       "      <td>0.180986</td>\n",
       "      <td>0.018935</td>\n",
       "      <td>0.219112</td>\n",
       "      <td>1.000000</td>\n",
       "      <td>0.191619</td>\n",
       "      <td>0.144284</td>\n",
       "      <td>0.194894</td>\n",
       "      <td>-0.025060</td>\n",
       "      <td>0.067001</td>\n",
       "    </tr>\n",
       "    <tr>\n",
       "      <th>Debt</th>\n",
       "      <td>-0.019347</td>\n",
       "      <td>0.058267</td>\n",
       "      <td>-0.046188</td>\n",
       "      <td>0.014771</td>\n",
       "      <td>0.144697</td>\n",
       "      <td>0.191619</td>\n",
       "      <td>1.000000</td>\n",
       "      <td>0.050902</td>\n",
       "      <td>0.043917</td>\n",
       "      <td>0.008609</td>\n",
       "      <td>0.004990</td>\n",
       "    </tr>\n",
       "    <tr>\n",
       "      <th>Amount</th>\n",
       "      <td>-0.007639</td>\n",
       "      <td>0.430858</td>\n",
       "      <td>0.029031</td>\n",
       "      <td>0.049539</td>\n",
       "      <td>0.190820</td>\n",
       "      <td>0.144284</td>\n",
       "      <td>0.050902</td>\n",
       "      <td>1.000000</td>\n",
       "      <td>0.725025</td>\n",
       "      <td>0.473842</td>\n",
       "      <td>-0.149323</td>\n",
       "    </tr>\n",
       "    <tr>\n",
       "      <th>Price</th>\n",
       "      <td>0.041122</td>\n",
       "      <td>0.129677</td>\n",
       "      <td>0.048685</td>\n",
       "      <td>0.040728</td>\n",
       "      <td>0.217789</td>\n",
       "      <td>0.194894</td>\n",
       "      <td>0.043917</td>\n",
       "      <td>0.725025</td>\n",
       "      <td>1.000000</td>\n",
       "      <td>-0.181348</td>\n",
       "      <td>-0.070361</td>\n",
       "    </tr>\n",
       "    <tr>\n",
       "      <th>Finrat</th>\n",
       "      <td>-0.073392</td>\n",
       "      <td>0.468641</td>\n",
       "      <td>-0.034514</td>\n",
       "      <td>0.024582</td>\n",
       "      <td>-0.003407</td>\n",
       "      <td>-0.025060</td>\n",
       "      <td>0.008609</td>\n",
       "      <td>0.473842</td>\n",
       "      <td>-0.181348</td>\n",
       "      <td>1.000000</td>\n",
       "      <td>-0.123180</td>\n",
       "    </tr>\n",
       "    <tr>\n",
       "      <th>Savings</th>\n",
       "      <td>0.093246</td>\n",
       "      <td>0.101653</td>\n",
       "      <td>0.062036</td>\n",
       "      <td>-0.038094</td>\n",
       "      <td>0.717963</td>\n",
       "      <td>0.067001</td>\n",
       "      <td>0.004990</td>\n",
       "      <td>-0.149323</td>\n",
       "      <td>-0.070361</td>\n",
       "      <td>-0.123180</td>\n",
       "      <td>1.000000</td>\n",
       "    </tr>\n",
       "  </tbody>\n",
       "</table>\n",
       "</div>"
      ],
      "text/plain": [
       "           Seniority      Time       Age  Expenses    Income    Assets  \\\n",
       "Seniority   1.000000 -0.021874  0.506089  0.125680  0.121224  0.124241   \n",
       "Time       -0.021874  1.000000 -0.051850 -0.001717 -0.029915 -0.083018   \n",
       "Age         0.506089 -0.051850  1.000000  0.248137  0.147556  0.180986   \n",
       "Expenses    0.125680 -0.001717  0.248137  1.000000  0.255005  0.018935   \n",
       "Income      0.121224 -0.029915  0.147556  0.255005  1.000000  0.219112   \n",
       "Assets      0.124241 -0.083018  0.180986  0.018935  0.219112  1.000000   \n",
       "Debt       -0.019347  0.058267 -0.046188  0.014771  0.144697  0.191619   \n",
       "Amount     -0.007639  0.430858  0.029031  0.049539  0.190820  0.144284   \n",
       "Price       0.041122  0.129677  0.048685  0.040728  0.217789  0.194894   \n",
       "Finrat     -0.073392  0.468641 -0.034514  0.024582 -0.003407 -0.025060   \n",
       "Savings     0.093246  0.101653  0.062036 -0.038094  0.717963  0.067001   \n",
       "\n",
       "               Debt    Amount     Price    Finrat   Savings  \n",
       "Seniority -0.019347 -0.007639  0.041122 -0.073392  0.093246  \n",
       "Time       0.058267  0.430858  0.129677  0.468641  0.101653  \n",
       "Age       -0.046188  0.029031  0.048685 -0.034514  0.062036  \n",
       "Expenses   0.014771  0.049539  0.040728  0.024582 -0.038094  \n",
       "Income     0.144697  0.190820  0.217789 -0.003407  0.717963  \n",
       "Assets     0.191619  0.144284  0.194894 -0.025060  0.067001  \n",
       "Debt       1.000000  0.050902  0.043917  0.008609  0.004990  \n",
       "Amount     0.050902  1.000000  0.725025  0.473842 -0.149323  \n",
       "Price      0.043917  0.725025  1.000000 -0.181348 -0.070361  \n",
       "Finrat     0.008609  0.473842 -0.181348  1.000000 -0.123180  \n",
       "Savings    0.004990 -0.149323 -0.070361 -0.123180  1.000000  "
      ]
     },
     "execution_count": 16,
     "metadata": {},
     "output_type": "execute_result"
    }
   ],
   "source": [
    "data.corr()"
   ]
  },
  {
   "cell_type": "code",
   "execution_count": 47,
   "id": "d0a0309d",
   "metadata": {},
   "outputs": [
    {
     "data": {
      "text/plain": [
       "<AxesSubplot:>"
      ]
     },
     "execution_count": 47,
     "metadata": {},
     "output_type": "execute_result"
    },
    {
     "data": {
      "image/png": "[encoded data removed]",
      "text/plain": [
       "<Figure size 864x576 with 2 Axes>"
      ]
     },
     "metadata": {
      "needs_background": "light"
     },
     "output_type": "display_data"
    }
   ],
   "source": [
    "sb.heatmap(data.corr(), annot = True)"
   ]
  },
  {
   "cell_type": "code",
   "execution_count": 30,
   "id": "e8c9e7c6",
   "metadata": {
    "scrolled": true
   },
   "outputs": [
    {
     "data": {
      "text/plain": [
       "<AxesSubplot:>"
      ]
     },
     "execution_count": 30,
     "metadata": {},
     "output_type": "execute_result"
    },
    {
     "data": {
      "image/png": "[encoded data removed]",
      "text/plain": [
       "<Figure size 864x576 with 2 Axes>"
      ]
     },
     "metadata": {
      "needs_background": "light"
     },
     "output_type": "display_data"
    }
   ],
   "source": [
    "sb.heatmap(data[['Amount', 'Income']].corr(), annot=True)"
   ]
  },
  {
   "cell_type": "markdown",
   "id": "e7ab3eaf",
   "metadata": {},
   "source": [
    "The variables, Amount and Income have very weak correlation"
   ]
  },
  {
   "cell_type": "code",
   "execution_count": 27,
   "id": "794bdd57",
   "metadata": {},
   "outputs": [
    {
     "data": {
      "image/png": "[encoded data removed]",
      "text/plain": [
       "<Figure size 864x576 with 1 Axes>"
      ]
     },
     "metadata": {
      "needs_background": "light"
     },
     "output_type": "display_data"
    }
   ],
   "source": [
    "plt.scatter(data.Income, data.Amount)\n",
    "plt.title('Income versus Amount')\n",
    "plt.xlabel('Amount')\n",
    "plt.ylabel('Income')\n",
    "plt.show()"
   ]
  },
  {
   "cell_type": "code",
   "execution_count": 36,
   "id": "64923924",
   "metadata": {},
   "outputs": [],
   "source": [
    "from sklearn.linear_model import LinearRegression "
   ]
  },
  {
   "cell_type": "code",
   "execution_count": 37,
   "id": "2895c807",
   "metadata": {},
   "outputs": [],
   "source": [
    "y = data['Income'] #response variable(target/dependent)\n",
    "x = data[['Amount']]"
   ]
  },
  {
   "cell_type": "code",
   "execution_count": 38,
   "id": "5fb80fd9",
   "metadata": {},
   "outputs": [],
   "source": [
    "model = LinearRegression().fit(x,y)"
   ]
  },
  {
   "cell_type": "code",
   "execution_count": 41,
   "id": "0c8b8679",
   "metadata": {},
   "outputs": [
    {
     "data": {
      "text/plain": [
       "array([0.03222669])"
      ]
     },
     "execution_count": 41,
     "metadata": {},
     "output_type": "execute_result"
    }
   ],
   "source": [
    "model.coef_"
   ]
  },
  {
   "cell_type": "code",
   "execution_count": 42,
   "id": "8409fadb",
   "metadata": {},
   "outputs": [
    {
     "data": {
      "text/plain": [
       "107.15387368814339"
      ]
     },
     "execution_count": 42,
     "metadata": {},
     "output_type": "execute_result"
    }
   ],
   "source": [
    "model.intercept_"
   ]
  },
  {
   "cell_type": "markdown",
   "id": "b6145803",
   "metadata": {},
   "source": [
    "y = 0.032x + 107.154  #y =Income x = Amount"
   ]
  },
  {
   "cell_type": "markdown",
   "id": "b77d48b2",
   "metadata": {},
   "source": [
    "MULITIVARIATE ANALYSIS"
   ]
  },
  {
   "cell_type": "code",
   "execution_count": 45,
   "id": "4d008d47",
   "metadata": {},
   "outputs": [],
   "source": [
    "from sklearn.preprocessing import LabelEncoder"
   ]
  },
  {
   "cell_type": "code",
   "execution_count": 46,
   "id": "9543ee3a",
   "metadata": {},
   "outputs": [],
   "source": [
    "encoder = LabelEncoder()"
   ]
  },
  {
   "cell_type": "code",
   "execution_count": 52,
   "id": "89dd04f4",
   "metadata": {},
   "outputs": [],
   "source": [
    "cols = ['Job', 'Home', 'Marital', 'Records']\n",
    "data[cols] = data[cols].apply(encoder.fit_transform)"
   ]
  },
  {
   "cell_type": "code",
   "execution_count": 53,
   "id": "90abe854",
   "metadata": {},
   "outputs": [
    {
     "data": {
      "text/html": [
       "<div>\n",
       "<style scoped>\n",
       "    .dataframe tbody tr th:only-of-type {\n",
       "        vertical-align: middle;\n",
       "    }\n",
       "\n",
       "    .dataframe tbody tr th {\n",
       "        vertical-align: top;\n",
       "    }\n",
       "\n",
       "    .dataframe thead th {\n",
       "        text-align: right;\n",
       "    }\n",
       "</style>\n",
       "<table border=\"1\" class=\"dataframe\">\n",
       "  <thead>\n",
       "    <tr style=\"text-align: right;\">\n",
       "      <th></th>\n",
       "      <th>Status</th>\n",
       "      <th>Seniority</th>\n",
       "      <th>Home</th>\n",
       "      <th>Time</th>\n",
       "      <th>Age</th>\n",
       "      <th>Marital</th>\n",
       "      <th>Records</th>\n",
       "      <th>Job</th>\n",
       "      <th>Expenses</th>\n",
       "      <th>Income</th>\n",
       "      <th>Assets</th>\n",
       "      <th>Debt</th>\n",
       "      <th>Amount</th>\n",
       "      <th>Price</th>\n",
       "      <th>Finrat</th>\n",
       "      <th>Savings</th>\n",
       "    </tr>\n",
       "  </thead>\n",
       "  <tbody>\n",
       "    <tr>\n",
       "      <th>0</th>\n",
       "      <td>good</td>\n",
       "      <td>9</td>\n",
       "      <td>5</td>\n",
       "      <td>60</td>\n",
       "      <td>30</td>\n",
       "      <td>1</td>\n",
       "      <td>0</td>\n",
       "      <td>1</td>\n",
       "      <td>73</td>\n",
       "      <td>129</td>\n",
       "      <td>0</td>\n",
       "      <td>0</td>\n",
       "      <td>800</td>\n",
       "      <td>846</td>\n",
       "      <td>94.562648</td>\n",
       "      <td>4.200000</td>\n",
       "    </tr>\n",
       "    <tr>\n",
       "      <th>1</th>\n",
       "      <td>good</td>\n",
       "      <td>17</td>\n",
       "      <td>5</td>\n",
       "      <td>60</td>\n",
       "      <td>58</td>\n",
       "      <td>4</td>\n",
       "      <td>0</td>\n",
       "      <td>0</td>\n",
       "      <td>48</td>\n",
       "      <td>131</td>\n",
       "      <td>0</td>\n",
       "      <td>0</td>\n",
       "      <td>1000</td>\n",
       "      <td>1658</td>\n",
       "      <td>60.313631</td>\n",
       "      <td>4.980000</td>\n",
       "    </tr>\n",
       "    <tr>\n",
       "      <th>2</th>\n",
       "      <td>bad</td>\n",
       "      <td>10</td>\n",
       "      <td>2</td>\n",
       "      <td>36</td>\n",
       "      <td>46</td>\n",
       "      <td>1</td>\n",
       "      <td>1</td>\n",
       "      <td>1</td>\n",
       "      <td>90</td>\n",
       "      <td>200</td>\n",
       "      <td>3000</td>\n",
       "      <td>0</td>\n",
       "      <td>2000</td>\n",
       "      <td>2985</td>\n",
       "      <td>67.001675</td>\n",
       "      <td>1.980000</td>\n",
       "    </tr>\n",
       "    <tr>\n",
       "      <th>3</th>\n",
       "      <td>good</td>\n",
       "      <td>0</td>\n",
       "      <td>5</td>\n",
       "      <td>60</td>\n",
       "      <td>24</td>\n",
       "      <td>3</td>\n",
       "      <td>0</td>\n",
       "      <td>0</td>\n",
       "      <td>63</td>\n",
       "      <td>182</td>\n",
       "      <td>2500</td>\n",
       "      <td>0</td>\n",
       "      <td>900</td>\n",
       "      <td>1325</td>\n",
       "      <td>67.924528</td>\n",
       "      <td>7.933333</td>\n",
       "    </tr>\n",
       "    <tr>\n",
       "      <th>4</th>\n",
       "      <td>good</td>\n",
       "      <td>0</td>\n",
       "      <td>5</td>\n",
       "      <td>36</td>\n",
       "      <td>26</td>\n",
       "      <td>3</td>\n",
       "      <td>0</td>\n",
       "      <td>0</td>\n",
       "      <td>46</td>\n",
       "      <td>107</td>\n",
       "      <td>0</td>\n",
       "      <td>0</td>\n",
       "      <td>310</td>\n",
       "      <td>910</td>\n",
       "      <td>34.065934</td>\n",
       "      <td>7.083871</td>\n",
       "    </tr>\n",
       "  </tbody>\n",
       "</table>\n",
       "</div>"
      ],
      "text/plain": [
       "  Status  Seniority  Home  Time  Age  Marital  Records  Job  Expenses  Income  \\\n",
       "0   good          9     5    60   30        1        0    1        73     129   \n",
       "1   good         17     5    60   58        4        0    0        48     131   \n",
       "2    bad         10     2    36   46        1        1    1        90     200   \n",
       "3   good          0     5    60   24        3        0    0        63     182   \n",
       "4   good          0     5    36   26        3        0    0        46     107   \n",
       "\n",
       "   Assets  Debt  Amount  Price     Finrat   Savings  \n",
       "0       0     0     800    846  94.562648  4.200000  \n",
       "1       0     0    1000   1658  60.313631  4.980000  \n",
       "2    3000     0    2000   2985  67.001675  1.980000  \n",
       "3    2500     0     900   1325  67.924528  7.933333  \n",
       "4       0     0     310    910  34.065934  7.083871  "
      ]
     },
     "execution_count": 53,
     "metadata": {},
     "output_type": "execute_result"
    }
   ],
   "source": [
    "data.head()"
   ]
  },
  {
   "cell_type": "code",
   "execution_count": 55,
   "id": "9904ec48",
   "metadata": {},
   "outputs": [],
   "source": [
    "X = data.loc[:, ['Home','Job','Expenses','Income','Assets','Debt','Savings']].values \n",
    "Y = data.loc[:, 'Status'].values"
   ]
  },
  {
   "cell_type": "code",
   "execution_count": 56,
   "id": "bf0997c7",
   "metadata": {},
   "outputs": [
    {
     "data": {
      "text/plain": [
       "array([[5.00000000e+00, 1.00000000e+00, 7.30000000e+01, ...,\n",
       "        0.00000000e+00, 0.00000000e+00, 4.20000000e+00],\n",
       "       [5.00000000e+00, 0.00000000e+00, 4.80000000e+01, ...,\n",
       "        0.00000000e+00, 0.00000000e+00, 4.98000000e+00],\n",
       "       [2.00000000e+00, 1.00000000e+00, 9.00000000e+01, ...,\n",
       "        3.00000000e+03, 0.00000000e+00, 1.98000000e+00],\n",
       "       ...,\n",
       "       [2.00000000e+00, 3.00000000e+00, 6.00000000e+01, ...,\n",
       "        3.50000000e+03, 0.00000000e+00, 1.44000000e+00],\n",
       "       [5.00000000e+00, 1.00000000e+00, 4.90000000e+01, ...,\n",
       "        0.00000000e+00, 0.00000000e+00, 7.94181818e+00],\n",
       "       [2.00000000e+00, 1.00000000e+00, 6.00000000e+01, ...,\n",
       "        4.00000000e+03, 1.00000000e+03, 3.11111111e+00]])"
      ]
     },
     "execution_count": 56,
     "metadata": {},
     "output_type": "execute_result"
    }
   ],
   "source": [
    "X"
   ]
  },
  {
   "cell_type": "code",
   "execution_count": 57,
   "id": "3e94e20e",
   "metadata": {},
   "outputs": [
    {
     "data": {
      "text/plain": [
       "array(['good', 'good', 'bad', ..., 'bad', 'good', 'good'], dtype=object)"
      ]
     },
     "execution_count": 57,
     "metadata": {},
     "output_type": "execute_result"
    }
   ],
   "source": [
    "Y"
   ]
  },
  {
   "cell_type": "code",
   "execution_count": 58,
   "id": "4b2c9a30",
   "metadata": {},
   "outputs": [],
   "source": [
    "from sklearn.preprocessing import StandardScaler"
   ]
  },
  {
   "cell_type": "code",
   "execution_count": 59,
   "id": "358d9cf4",
   "metadata": {},
   "outputs": [],
   "source": [
    "sc = StandardScaler()\n",
    "\n",
    "x_scaled = sc.fit_transform(X)"
   ]
  },
  {
   "cell_type": "code",
   "execution_count": 60,
   "id": "84f363fc",
   "metadata": {},
   "outputs": [
    {
     "data": {
      "text/plain": [
       "array([[ 1.63329697,  0.40496139,  0.89138163, ..., -0.4643141 ,\n",
       "        -0.27500368,  0.09123144],\n",
       "       [ 1.63329697, -0.63576598, -0.38944507, ..., -0.4643141 ,\n",
       "        -0.27500368,  0.30057838],\n",
       "       [-0.65888685,  0.40496139,  1.76234379, ..., -0.20419168,\n",
       "        -0.27500368, -0.50460215],\n",
       "       ...,\n",
       "       [-0.65888685,  2.48641614,  0.22535175, ..., -0.16083794,\n",
       "        -0.27500368, -0.64953465],\n",
       "       [ 1.63329697,  0.40496139, -0.338212  , ..., -0.4643141 ,\n",
       "        -0.27500368,  1.09551117],\n",
       "       [-0.65888685,  0.40496139,  0.22535175, ..., -0.1174842 ,\n",
       "         0.52849665, -0.20101927]])"
      ]
     },
     "execution_count": 60,
     "metadata": {},
     "output_type": "execute_result"
    }
   ],
   "source": [
    "x_scaled"
   ]
  },
  {
   "cell_type": "code",
   "execution_count": 62,
   "id": "51df9b53",
   "metadata": {},
   "outputs": [
    {
     "data": {
      "text/plain": [
       "array([[-0.31607867, -1.59191186,  0.79536745, -0.62303417],\n",
       "       [-0.21299861, -1.30502442, -0.33076967,  0.13730321],\n",
       "       [ 0.38964848, -0.49249519,  1.04252412, -0.1239624 ],\n",
       "       ...,\n",
       "       [-1.23530006,  0.80197848,  0.54989226, -1.92065879],\n",
       "       [ 0.16870449, -1.22773784, -0.38015379, -0.97594841],\n",
       "       [-0.01732244,  0.56549673,  0.32377734, -0.01877464]])"
      ]
     },
     "execution_count": 62,
     "metadata": {},
     "output_type": "execute_result"
    }
   ],
   "source": [
    "from sklearn.decomposition import PCA\n",
    "pca = PCA(n_components = 4)\n",
    "\n",
    "p = pca.fit_transform(x_scaled)\n",
    "\n",
    "p"
   ]
  },
  {
   "cell_type": "code",
   "execution_count": 63,
   "id": "dcef2112",
   "metadata": {},
   "outputs": [
    {
     "data": {
      "text/html": [
       "<div>\n",
       "<style scoped>\n",
       "    .dataframe tbody tr th:only-of-type {\n",
       "        vertical-align: middle;\n",
       "    }\n",
       "\n",
       "    .dataframe tbody tr th {\n",
       "        vertical-align: top;\n",
       "    }\n",
       "\n",
       "    .dataframe thead th {\n",
       "        text-align: right;\n",
       "    }\n",
       "</style>\n",
       "<table border=\"1\" class=\"dataframe\">\n",
       "  <thead>\n",
       "    <tr style=\"text-align: right;\">\n",
       "      <th></th>\n",
       "      <th>PC1</th>\n",
       "      <th>PC2</th>\n",
       "      <th>PC3</th>\n",
       "      <th>PC4</th>\n",
       "      <th>Status</th>\n",
       "    </tr>\n",
       "  </thead>\n",
       "  <tbody>\n",
       "    <tr>\n",
       "      <th>0</th>\n",
       "      <td>-0.316079</td>\n",
       "      <td>-1.591912</td>\n",
       "      <td>0.795367</td>\n",
       "      <td>-0.623034</td>\n",
       "      <td>good</td>\n",
       "    </tr>\n",
       "    <tr>\n",
       "      <th>1</th>\n",
       "      <td>-0.212999</td>\n",
       "      <td>-1.305024</td>\n",
       "      <td>-0.330770</td>\n",
       "      <td>0.137303</td>\n",
       "      <td>good</td>\n",
       "    </tr>\n",
       "    <tr>\n",
       "      <th>2</th>\n",
       "      <td>0.389648</td>\n",
       "      <td>-0.492495</td>\n",
       "      <td>1.042524</td>\n",
       "      <td>-0.123962</td>\n",
       "      <td>bad</td>\n",
       "    </tr>\n",
       "    <tr>\n",
       "      <th>3</th>\n",
       "      <td>0.883873</td>\n",
       "      <td>-1.708323</td>\n",
       "      <td>-0.058040</td>\n",
       "      <td>-0.062332</td>\n",
       "      <td>good</td>\n",
       "    </tr>\n",
       "    <tr>\n",
       "      <th>4</th>\n",
       "      <td>-0.093267</td>\n",
       "      <td>-1.299465</td>\n",
       "      <td>-0.610253</td>\n",
       "      <td>0.052204</td>\n",
       "      <td>good</td>\n",
       "    </tr>\n",
       "  </tbody>\n",
       "</table>\n",
       "</div>"
      ],
      "text/plain": [
       "        PC1       PC2       PC3       PC4 Status\n",
       "0 -0.316079 -1.591912  0.795367 -0.623034   good\n",
       "1 -0.212999 -1.305024 -0.330770  0.137303   good\n",
       "2  0.389648 -0.492495  1.042524 -0.123962    bad\n",
       "3  0.883873 -1.708323 -0.058040 -0.062332   good\n",
       "4 -0.093267 -1.299465 -0.610253  0.052204   good"
      ]
     },
     "execution_count": 63,
     "metadata": {},
     "output_type": "execute_result"
    }
   ],
   "source": [
    "principalDF = pd.DataFrame(data=p, columns= ['PC1', 'PC2','PC3', 'PC4'])\n",
    "finalDf = pd.concat([principalDF, data[['Status']]], axis = 1)\n",
    "finalDf.head()"
   ]
  },
  {
   "cell_type": "code",
   "execution_count": null,
   "id": "336bb41a",
   "metadata": {},
   "outputs": [],
   "source": []
  }
 ],
 "metadata": {
  "kernelspec": {
   "display_name": "Python 3 (ipykernel)",
   "language": "python",
   "name": "python3"
  },
  "language_info": {
   "codemirror_mode": {
    "name": "ipython",
    "version": 3
   },
   "file_extension": ".py",
   "mimetype": "text/x-python",
   "name": "python",
   "nbconvert_exporter": "python",
   "pygments_lexer": "ipython3",
   "version": "3.9.12"
  }
 },
 "nbformat": 4,
 "nbformat_minor": 5
}
