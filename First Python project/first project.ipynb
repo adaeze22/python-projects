{
 "cells": [
  {
   "cell_type": "markdown",
   "id": "244defe9",
   "metadata": {},
   "source": [
    "##  Guess the number"
   ]
  },
  {
   "cell_type": "code",
   "execution_count": 3,
   "id": "38e2ed16",
   "metadata": {},
   "outputs": [
    {
     "name": "stdout",
     "output_type": "stream",
     "text": [
      "YOU HAVE 5 TRIALS\n",
      "Enter input 5\n",
      "you are close\n",
      "Enter input 8\n",
      "Try Again!\n",
      "Enter input 4\n",
      "you are away\n",
      "Enter input 9\n",
      "you are close\n",
      "Enter input 7\n",
      "congratulations\n"
     ]
    }
   ],
   "source": [
    "import random\n",
    "variable = random.randint(1,10)\n",
    "\n",
    "number_of_trials = 5\n",
    "print('YOU HAVE 5 TRIALS')\n",
    "try:\n",
    "    for i in range(number_of_trials):\n",
    "      user_input = int(input('Enter input '))\n",
    "      if (user_input == variable-2) or (user_input == variable +2):\n",
    "        print('you are close')\n",
    "      elif (user_input >= variable+2) or (user_input <= variable-2):\n",
    "        print('you are away')\n",
    "      elif user_input == variable:\n",
    "        print('congratulations')\n",
    "        break\n",
    "      else:\n",
    "        print (\"Try Again!\")\n",
    "except:\n",
    "    print('You did not enter an integer')"
   ]
  },
  {
   "cell_type": "code",
   "execution_count": 10,
   "id": "3ba0586a",
   "metadata": {},
   "outputs": [],
   "source": [
    "import random\n",
    "possible_char = \"ABCDEFGHIJKLMNOPQRSTUVWXYZ1234567890,.=]:#$^%*&abcdefghijklmnopqrstuvwxyz\"\n",
    "\n",
    "password = ''\n",
    "password_length = 8\n",
    "\n",
    "i = 1\n",
    "while (i<= password_length):\n",
    "    password += random.choice(possible_char)\n",
    "    i += 1\n",
    "with open('passwords.txt','w') as my_file:\n",
    "    my_file.write(password)"
   ]
  },
  {
   "cell_type": "code",
   "execution_count": null,
   "id": "0995e760",
   "metadata": {},
   "outputs": [],
   "source": []
  },
  {
   "cell_type": "code",
   "execution_count": null,
   "id": "70aa764e",
   "metadata": {},
   "outputs": [],
   "source": []
  },
  {
   "cell_type": "code",
   "execution_count": null,
   "id": "1d99237b",
   "metadata": {},
   "outputs": [],
   "source": []
  },
  {
   "cell_type": "code",
   "execution_count": null,
   "id": "4560d884",
   "metadata": {},
   "outputs": [],
   "source": []
  }
 ],
 "metadata": {
  "kernelspec": {
   "display_name": "Python 3 (ipykernel)",
   "language": "python",
   "name": "python3"
  },
  "language_info": {
   "codemirror_mode": {
    "name": "ipython",
    "version": 3
   },
   "file_extension": ".py",
   "mimetype": "text/x-python",
   "name": "python",
   "nbconvert_exporter": "python",
   "pygments_lexer": "ipython3",
   "version": "3.9.12"
  }
 },
 "nbformat": 4,
 "nbformat_minor": 5
}
